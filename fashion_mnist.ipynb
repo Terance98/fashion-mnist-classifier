{
  "nbformat": 4,
  "nbformat_minor": 0,
  "metadata": {
    "colab": {
      "name": "fashion mnist.ipynb",
      "version": "0.3.2",
      "provenance": []
    },
    "kernelspec": {
      "name": "python3",
      "display_name": "Python 3"
    },
    "accelerator": "GPU"
  },
  "cells": [
    {
      "cell_type": "markdown",
      "metadata": {
        "id": "TewpB7EXysSQ",
        "colab_type": "text"
      },
      "source": [
        "##Import modules"
      ]
    },
    {
      "cell_type": "code",
      "metadata": {
        "id": "4B5cnBd1yw_n",
        "colab_type": "code",
        "colab": {}
      },
      "source": [
        "import numpy as np\n",
        "import tensorflow as tf\n",
        "import matplotlib.pyplot as plt"
      ],
      "execution_count": 0,
      "outputs": []
    },
    {
      "cell_type": "markdown",
      "metadata": {
        "id": "Rjbe7K11zlLn",
        "colab_type": "text"
      },
      "source": [
        "##Datasets"
      ]
    },
    {
      "cell_type": "code",
      "metadata": {
        "id": "2SyEX5Q922yB",
        "colab_type": "code",
        "colab": {}
      },
      "source": [
        "class_names = ['T-shirt/top', 'Trouser', 'Pullover', 'Dress', 'Coat',\n",
        "               'Sandal', 'Shirt', 'Sneaker', 'Bag', 'Ankle boot']"
      ],
      "execution_count": 0,
      "outputs": []
    },
    {
      "cell_type": "code",
      "metadata": {
        "id": "QqGUphbfzHbv",
        "colab_type": "code",
        "outputId": "a6bb78ef-488b-4f8f-e2c7-c743765a6348",
        "colab": {
          "base_uri": "https://localhost:8080/",
          "height": 153
        }
      },
      "source": [
        "fashion_mnist = tf.keras.datasets.fashion_mnist\n",
        "(train_images, train_labels),(test_images,test_labels) = fashion_mnist.load_data()"
      ],
      "execution_count": 0,
      "outputs": [
        {
          "output_type": "stream",
          "text": [
            "Downloading data from https://storage.googleapis.com/tensorflow/tf-keras-datasets/train-labels-idx1-ubyte.gz\n",
            "32768/29515 [=================================] - 0s 0us/step\n",
            "Downloading data from https://storage.googleapis.com/tensorflow/tf-keras-datasets/train-images-idx3-ubyte.gz\n",
            "26427392/26421880 [==============================] - 0s 0us/step\n",
            "Downloading data from https://storage.googleapis.com/tensorflow/tf-keras-datasets/t10k-labels-idx1-ubyte.gz\n",
            "8192/5148 [===============================================] - 0s 0us/step\n",
            "Downloading data from https://storage.googleapis.com/tensorflow/tf-keras-datasets/t10k-images-idx3-ubyte.gz\n",
            "4423680/4422102 [==============================] - 0s 0us/step\n"
          ],
          "name": "stdout"
        }
      ]
    },
    {
      "cell_type": "code",
      "metadata": {
        "id": "hdEJ-V0rzYas",
        "colab_type": "code",
        "outputId": "e85d8ca0-2798-4fc3-9fe4-b2fdfdfdddb1",
        "colab": {
          "base_uri": "https://localhost:8080/",
          "height": 34
        }
      },
      "source": [
        "train_images.shape\n",
        "# train_lables.shape"
      ],
      "execution_count": 0,
      "outputs": [
        {
          "output_type": "execute_result",
          "data": {
            "text/plain": [
              "(60000, 28, 28)"
            ]
          },
          "metadata": {
            "tags": []
          },
          "execution_count": 4
        }
      ]
    },
    {
      "cell_type": "code",
      "metadata": {
        "id": "4eLJsfVhzuKb",
        "colab_type": "code",
        "outputId": "d17de6d6-b084-4253-eeaf-538deea9bfa8",
        "colab": {
          "base_uri": "https://localhost:8080/",
          "height": 269
        }
      },
      "source": [
        "#plotting the first row\n",
        "plt.imshow(train_images[0], cmap = plt.cm.binary)\n",
        "plt.show()"
      ],
      "execution_count": 0,
      "outputs": [
        {
          "output_type": "display_data",
          "data": {
            "image/png": "[encoded data removed]",
            "text/plain": [
              "<Figure size 432x288 with 1 Axes>"
            ]
          },
          "metadata": {
            "tags": []
          }
        }
      ]
    },
    {
      "cell_type": "code",
      "metadata": {
        "id": "RGulJnM3z8ko",
        "colab_type": "code",
        "outputId": "ae405593-0fa3-426d-987c-ca40acb6c30a",
        "colab": {
          "base_uri": "https://localhost:8080/",
          "height": 969
        }
      },
      "source": [
        "print(train_images[0])"
      ],
      "execution_count": 0,
      "outputs": [
        {
          "output_type": "stream",
          "text": [
            "[[  0   0   0   0   0   0   0   0   0   0   0   0   0   0   0   0   0   0\n",
            "    0   0   0   0   0   0   0   0   0   0]\n",
            " [  0   0   0   0   0   0   0   0   0   0   0   0   0   0   0   0   0   0\n",
            "    0   0   0   0   0   0   0   0   0   0]\n",
            " [  0   0   0   0   0   0   0   0   0   0   0   0   0   0   0   0   0   0\n",
            "    0   0   0   0   0   0   0   0   0   0]\n",
            " [  0   0   0   0   0   0   0   0   0   0   0   0   1   0   0  13  73   0\n",
            "    0   1   4   0   0   0   0   1   1   0]\n",
            " [  0   0   0   0   0   0   0   0   0   0   0   0   3   0  36 136 127  62\n",
            "   54   0   0   0   1   3   4   0   0   3]\n",
            " [  0   0   0   0   0   0   0   0   0   0   0   0   6   0 102 204 176 134\n",
            "  144 123  23   0   0   0   0  12  10   0]\n",
            " [  0   0   0   0   0   0   0   0   0   0   0   0   0   0 155 236 207 178\n",
            "  107 156 161 109  64  23  77 130  72  15]\n",
            " [  0   0   0   0   0   0   0   0   0   0   0   1   0  69 207 223 218 216\n",
            "  216 163 127 121 122 146 141  88 172  66]\n",
            " [  0   0   0   0   0   0   0   0   0   1   1   1   0 200 232 232 233 229\n",
            "  223 223 215 213 164 127 123 196 229   0]\n",
            " [  0   0   0   0   0   0   0   0   0   0   0   0   0 183 225 216 223 228\n",
            "  235 227 224 222 224 221 223 245 173   0]\n",
            " [  0   0   0   0   0   0   0   0   0   0   0   0   0 193 228 218 213 198\n",
            "  180 212 210 211 213 223 220 243 202   0]\n",
            " [  0   0   0   0   0   0   0   0   0   1   3   0  12 219 220 212 218 192\n",
            "  169 227 208 218 224 212 226 197 209  52]\n",
            " [  0   0   0   0   0   0   0   0   0   0   6   0  99 244 222 220 218 203\n",
            "  198 221 215 213 222 220 245 119 167  56]\n",
            " [  0   0   0   0   0   0   0   0   0   4   0   0  55 236 228 230 228 240\n",
            "  232 213 218 223 234 217 217 209  92   0]\n",
            " [  0   0   1   4   6   7   2   0   0   0   0   0 237 226 217 223 222 219\n",
            "  222 221 216 223 229 215 218 255  77   0]\n",
            " [  0   3   0   0   0   0   0   0   0  62 145 204 228 207 213 221 218 208\n",
            "  211 218 224 223 219 215 224 244 159   0]\n",
            " [  0   0   0   0  18  44  82 107 189 228 220 222 217 226 200 205 211 230\n",
            "  224 234 176 188 250 248 233 238 215   0]\n",
            " [  0  57 187 208 224 221 224 208 204 214 208 209 200 159 245 193 206 223\n",
            "  255 255 221 234 221 211 220 232 246   0]\n",
            " [  3 202 228 224 221 211 211 214 205 205 205 220 240  80 150 255 229 221\n",
            "  188 154 191 210 204 209 222 228 225   0]\n",
            " [ 98 233 198 210 222 229 229 234 249 220 194 215 217 241  65  73 106 117\n",
            "  168 219 221 215 217 223 223 224 229  29]\n",
            " [ 75 204 212 204 193 205 211 225 216 185 197 206 198 213 240 195 227 245\n",
            "  239 223 218 212 209 222 220 221 230  67]\n",
            " [ 48 203 183 194 213 197 185 190 194 192 202 214 219 221 220 236 225 216\n",
            "  199 206 186 181 177 172 181 205 206 115]\n",
            " [  0 122 219 193 179 171 183 196 204 210 213 207 211 210 200 196 194 191\n",
            "  195 191 198 192 176 156 167 177 210  92]\n",
            " [  0   0  74 189 212 191 175 172 175 181 185 188 189 188 193 198 204 209\n",
            "  210 210 211 188 188 194 192 216 170   0]\n",
            " [  2   0   0   0  66 200 222 237 239 242 246 243 244 221 220 193 191 179\n",
            "  182 182 181 176 166 168  99  58   0   0]\n",
            " [  0   0   0   0   0   0   0  40  61  44  72  41  35   0   0   0   0   0\n",
            "    0   0   0   0   0   0   0   0   0   0]\n",
            " [  0   0   0   0   0   0   0   0   0   0   0   0   0   0   0   0   0   0\n",
            "    0   0   0   0   0   0   0   0   0   0]\n",
            " [  0   0   0   0   0   0   0   0   0   0   0   0   0   0   0   0   0   0\n",
            "    0   0   0   0   0   0   0   0   0   0]]\n"
          ],
          "name": "stdout"
        }
      ]
    },
    {
      "cell_type": "code",
      "metadata": {
        "id": "bVSO6JaM0Btt",
        "colab_type": "code",
        "colab": {}
      },
      "source": [
        "#normalizing the datapoints\n",
        "train_images = tf.keras.utils.normalize(train_images,axis = 1)\n",
        "test_images = tf.keras.utils.normalize(test_images, axis = 1)\n"
      ],
      "execution_count": 0,
      "outputs": []
    },
    {
      "cell_type": "code",
      "metadata": {
        "id": "G12__q050WGK",
        "colab_type": "code",
        "outputId": "4366fbbe-e55c-4e3e-ba9e-ceaf4d9bba2f",
        "colab": {
          "base_uri": "https://localhost:8080/",
          "height": 269
        }
      },
      "source": [
        "#Plotting the first row again\n",
        "plt.imshow(train_images[0], cmap = plt.cm.binary)\n",
        "plt.show()"
      ],
      "execution_count": 0,
      "outputs": [
        {
          "output_type": "display_data",
          "data": {
            "image/png": "[encoded data removed]",
            "text/plain": [
              "<Figure size 432x288 with 1 Axes>"
            ]
          },
          "metadata": {
            "tags": []
          }
        }
      ]
    },
    {
      "cell_type": "code",
      "metadata": {
        "id": "TzLDgzRW0kvl",
        "colab_type": "code",
        "outputId": "345a431b-c4ca-4c56-eb84-5eb8bddb109d",
        "colab": {
          "base_uri": "https://localhost:8080/",
          "height": 1000
        }
      },
      "source": [
        "print(train_images[0])"
      ],
      "execution_count": 0,
      "outputs": [
        {
          "output_type": "stream",
          "text": [
            "[[0.         0.         0.         0.         0.         0.\n",
            "  0.         0.         0.         0.         0.         0.\n",
            "  0.         0.         0.         0.         0.         0.\n",
            "  0.         0.         0.         0.         0.         0.\n",
            "  0.         0.         0.         0.        ]\n",
            " [0.         0.         0.         0.         0.         0.\n",
            "  0.         0.         0.         0.         0.         0.\n",
            "  0.         0.         0.         0.         0.         0.\n",
            "  0.         0.         0.         0.         0.         0.\n",
            "  0.         0.         0.         0.        ]\n",
            " [0.         0.         0.         0.         0.         0.\n",
            "  0.         0.         0.         0.         0.         0.\n",
            "  0.         0.         0.         0.         0.         0.\n",
            "  0.         0.         0.         0.         0.         0.\n",
            "  0.         0.         0.         0.        ]\n",
            " [0.         0.         0.         0.         0.         0.\n",
            "  0.         0.         0.         0.         0.         0.\n",
            "  0.00135942 0.         0.         0.0135775  0.07675477 0.\n",
            "  0.         0.00108359 0.00452712 0.         0.         0.\n",
            "  0.         0.00112628 0.00124281 0.        ]\n",
            " [0.         0.         0.         0.         0.         0.\n",
            "  0.         0.         0.         0.         0.         0.\n",
            "  0.00407827 0.         0.0393841  0.14204153 0.13353227 0.06706289\n",
            "  0.05944322 0.         0.         0.         0.00114334 0.00349231\n",
            "  0.00461146 0.         0.         0.01550248]\n",
            " [0.         0.         0.         0.         0.         0.\n",
            "  0.         0.         0.         0.         0.         0.\n",
            "  0.00815655 0.         0.11158829 0.2130623  0.18505259 0.14494239\n",
            "  0.15851525 0.13328144 0.02603093 0.         0.         0.\n",
            "  0.         0.01351531 0.01242807 0.        ]\n",
            " [0.         0.         0.         0.         0.         0.\n",
            "  0.         0.         0.         0.         0.         0.\n",
            "  0.         0.         0.16957044 0.24648383 0.21764709 0.19253541\n",
            "  0.11778563 0.16903988 0.18221649 0.12429049 0.07317407 0.02677434\n",
            "  0.08877055 0.14641589 0.08948208 0.07751239]\n",
            " [0.         0.         0.         0.         0.         0.\n",
            "  0.         0.         0.         0.         0.         0.00148028\n",
            "  0.         0.08043127 0.22645859 0.23290633 0.22921287 0.23363847\n",
            "  0.23777287 0.176625   0.14373599 0.13797385 0.13948807 0.16995886\n",
            "  0.16255387 0.0991123  0.21376275 0.34105453]\n",
            " [0.         0.         0.         0.         0.         0.\n",
            "  0.         0.         0.         0.00158012 0.00154801 0.00148028\n",
            "  0.         0.23313412 0.25380866 0.24230614 0.2449844  0.24770005\n",
            "  0.24547847 0.24164034 0.24333258 0.24287959 0.18750855 0.14784092\n",
            "  0.14180231 0.22075012 0.28460274 0.        ]\n",
            " [0.         0.         0.         0.         0.         0.\n",
            "  0.         0.         0.         0.         0.         0.\n",
            "  0.         0.21331772 0.24615064 0.22559537 0.23447005 0.24661839\n",
            "  0.25868808 0.2459747  0.2535186  0.25314211 0.25610924 0.25726649\n",
            "  0.25708875 0.27593765 0.21500556 0.        ]\n",
            " [0.         0.         0.         0.         0.         0.\n",
            "  0.         0.         0.         0.         0.         0.\n",
            "  0.         0.22497443 0.24943265 0.22768422 0.2239557  0.2141686\n",
            "  0.19814406 0.22972086 0.23767368 0.24059903 0.24353245 0.25959469\n",
            "  0.25363015 0.27368509 0.25104696 0.        ]\n",
            " [0.         0.         0.         0.         0.         0.\n",
            "  0.         0.         0.         0.00158012 0.00464404 0.\n",
            "  0.0163131  0.25528186 0.24068063 0.22141768 0.22921287 0.20767864\n",
            "  0.18603525 0.2459747  0.23541013 0.24858099 0.25610924 0.24678957\n",
            "  0.26054734 0.22187639 0.2597466  0.26870963]\n",
            " [0.         0.         0.         0.         0.         0.\n",
            "  0.         0.         0.         0.         0.00928807 0.\n",
            "  0.13458306 0.28442363 0.24286863 0.22977306 0.22921287 0.2195769\n",
            "  0.21795846 0.23947316 0.24333258 0.24287959 0.25382255 0.25610239\n",
            "  0.28245176 0.13402686 0.20754872 0.2893796 ]\n",
            " [0.         0.         0.         0.         0.         0.\n",
            "  0.         0.         0.         0.00632047 0.         0.\n",
            "  0.07476837 0.27509826 0.24943265 0.24021729 0.23972722 0.2595983\n",
            "  0.25538568 0.23080445 0.24672792 0.25428239 0.26754269 0.25261008\n",
            "  0.25017156 0.23539171 0.11433822 0.        ]\n",
            " [0.         0.         0.00196864 0.00743066 0.01073107 0.01210602\n",
            "  0.00340005 0.         0.         0.         0.         0.\n",
            "  0.3221837  0.26344156 0.23739862 0.23290633 0.23341861 0.23688345\n",
            "  0.24437767 0.23947316 0.24446436 0.25428239 0.26182596 0.25028188\n",
            "  0.25132443 0.28720041 0.09569612 0.        ]\n",
            " [0.         0.00677527 0.         0.         0.         0.\n",
            "  0.         0.         0.         0.09796732 0.2244617  0.30197776\n",
            "  0.30994887 0.24129382 0.23302261 0.23081749 0.22921287 0.2249852\n",
            "  0.23226887 0.2362224  0.2535186  0.25428239 0.25039252 0.25028188\n",
            "  0.25824161 0.27481137 0.19760627 0.        ]\n",
            " [0.         0.         0.         0.         0.0321932  0.07609496\n",
            "  0.13940217 0.17644206 0.29930777 0.36026691 0.34056258 0.32862285\n",
            "  0.2949952  0.26344156 0.21880057 0.21410672 0.22185283 0.24878171\n",
            "  0.24657927 0.25355982 0.19919318 0.2143726  0.28583621 0.28869724\n",
            "  0.26861739 0.26805371 0.26720344 0.        ]\n",
            " [0.         0.12873017 0.36813591 0.38639423 0.40062647 0.38220425\n",
            "  0.38080592 0.34299018 0.32306235 0.33814525 0.32198644 0.30937917\n",
            "  0.27188498 0.18534163 0.2680307  0.20157364 0.21659565 0.24121009\n",
            "  0.28070408 0.27631519 0.25012326 0.26682547 0.25267921 0.24562547\n",
            "  0.25363015 0.26129606 0.30573045 0.        ]\n",
            " [0.02264812 0.45620167 0.44885021 0.41611686 0.39526094 0.36490994\n",
            "  0.35870558 0.35288412 0.32464599 0.32392419 0.3173424  0.32566229\n",
            "  0.32626197 0.09325365 0.16410043 0.26632787 0.24077866 0.23904677\n",
            "  0.20695046 0.1668727  0.21616988 0.23945875 0.23324234 0.24329727\n",
            "  0.25593588 0.25679095 0.27963151 0.        ]\n",
            " [0.73983865 0.52621282 0.38979097 0.39010956 0.39704945 0.39603969\n",
            "  0.38930605 0.38586395 0.39432611 0.34762596 0.30031428 0.31826087\n",
            "  0.2949952  0.28092662 0.07111019 0.07624288 0.11145213 0.12655417\n",
            "  0.18493445 0.23730599 0.25012326 0.24516015 0.24810583 0.25959469\n",
            "  0.25708875 0.25228585 0.28460274 0.14985729]\n",
            " [0.56620305 0.46071852 0.41735195 0.37896357 0.34518263 0.35453335\n",
            "  0.35870558 0.37102303 0.34206602 0.29232183 0.30495831 0.30493832\n",
            "  0.26916613 0.24828784 0.26256069 0.20366249 0.23867579 0.2650066\n",
            "  0.26309128 0.24164034 0.24672792 0.24173931 0.23895907 0.25843059\n",
            "  0.25363015 0.24890702 0.28584554 0.34622202]\n",
            " [0.36236995 0.45846009 0.36026135 0.36038692 0.38095285 0.3406979\n",
            "  0.31450489 0.31330833 0.30722596 0.30338266 0.31269837 0.31678059\n",
            "  0.29771405 0.2576132  0.24068063 0.24648383 0.23657292 0.23363847\n",
            "  0.21905926 0.22321933 0.21051098 0.20639064 0.20237203 0.2002255\n",
            "  0.20866844 0.2308866  0.25601818 0.59426168]\n",
            " [0.         0.27552774 0.43113243 0.35852926 0.32014347 0.2957327\n",
            "  0.31110484 0.32320228 0.32306235 0.33182478 0.3297265  0.30641861\n",
            "  0.28683865 0.24479083 0.21880057 0.20470691 0.20397843 0.20659698\n",
            "  0.21465606 0.2069655  0.22409233 0.21893371 0.20122869 0.18159987\n",
            "  0.19252834 0.19935087 0.26098941 0.47540935]\n",
            " [0.         0.         0.14567945 0.3510986  0.37916434 0.33032132\n",
            "  0.29750463 0.28362649 0.27713682 0.28600136 0.28638217 0.27829323\n",
            "  0.2569313  0.21914607 0.21114255 0.20679576 0.21449278 0.22606686\n",
            "  0.23116807 0.22755369 0.23880546 0.2143726  0.21494883 0.22583574\n",
            "  0.22134995 0.24327564 0.21127714 0.        ]\n",
            " [0.01509875 0.         0.         0.         0.11804173 0.34588619\n",
            "  0.37740587 0.39081092 0.37848972 0.38238856 0.38081089 0.3597088\n",
            "  0.33169967 0.2576132  0.24068063 0.20157364 0.20082412 0.19361707\n",
            "  0.20034566 0.19721319 0.20485208 0.20068924 0.18979524 0.1955691\n",
            "  0.11413357 0.06532401 0.         0.        ]\n",
            " [0.         0.         0.         0.         0.         0.\n",
            "  0.         0.06595965 0.09660198 0.06952519 0.11145684 0.06069161\n",
            "  0.04757987 0.         0.         0.         0.         0.\n",
            "  0.         0.         0.         0.         0.         0.\n",
            "  0.         0.         0.         0.        ]\n",
            " [0.         0.         0.         0.         0.         0.\n",
            "  0.         0.         0.         0.         0.         0.\n",
            "  0.         0.         0.         0.         0.         0.\n",
            "  0.         0.         0.         0.         0.         0.\n",
            "  0.         0.         0.         0.        ]\n",
            " [0.         0.         0.         0.         0.         0.\n",
            "  0.         0.         0.         0.         0.         0.\n",
            "  0.         0.         0.         0.         0.         0.\n",
            "  0.         0.         0.         0.         0.         0.\n",
            "  0.         0.         0.         0.        ]]\n"
          ],
          "name": "stdout"
        }
      ]
    },
    {
      "cell_type": "code",
      "metadata": {
        "id": "ncdpQXU544NM",
        "colab_type": "code",
        "colab": {}
      },
      "source": [
        "train_images = train_images.astype('float32')                         "
      ],
      "execution_count": 0,
      "outputs": []
    },
    {
      "cell_type": "markdown",
      "metadata": {
        "id": "8x18ZIwS06XT",
        "colab_type": "text"
      },
      "source": [
        "##Defining model"
      ]
    },
    {
      "cell_type": "code",
      "metadata": {
        "id": "_CJy6bEk0pHI",
        "colab_type": "code",
        "outputId": "3a2a72ff-108c-4441-ffad-db97f8dc06f7",
        "colab": {
          "base_uri": "https://localhost:8080/",
          "height": 105
        }
      },
      "source": [
        "model = tf.keras.Sequential()\n",
        "\n",
        "#Create 4 layers: input layer which is flattened contains 784 nodes, 2 hidden layers with 128 nodes, output layer with 10 nodes\n",
        "model.add(tf.keras.layers.Flatten())\n",
        "model.add(tf.keras.layers.Dense(512, activation = tf.nn.relu))\n",
        "# model.add(tf.keras.layers.Dense(128, activation = tf.nn.relu))\n",
        "model.add(tf.keras.layers.Dense(256, activation = tf.nn.relu))\n",
        "model.add(tf.keras.layers.Dense(128, activation = tf.nn.relu))\n",
        "model.add(tf.keras.layers.Dense(128, activation = tf.nn.relu))\n",
        "model.add(tf.keras.layers.Dense(64, activation = tf.nn.relu))\n",
        "# model.add(tf.keras.layers.Dense(32, activation = tf.nn.relu))\n",
        "# model.add(tf.keras.layers.Dense(16, activation = tf.nn.relu))\n",
        "\n",
        "\n",
        "\n",
        "model.add(tf.keras.layers.Dense(10, activation = tf.nn.softmax))"
      ],
      "execution_count": 0,
      "outputs": [
        {
          "output_type": "stream",
          "text": [
            "WARNING: Logging before flag parsing goes to stderr.\n",
            "W0713 06:07:16.474008 140051772221312 deprecation.py:506] From /usr/local/lib/python3.6/dist-packages/tensorflow/python/ops/init_ops.py:1251: calling VarianceScaling.__init__ (from tensorflow.python.ops.init_ops) with dtype is deprecated and will be removed in a future version.\n",
            "Instructions for updating:\n",
            "Call initializer instance with the dtype argument instead of passing it to the constructor\n"
          ],
          "name": "stderr"
        }
      ]
    },
    {
      "cell_type": "markdown",
      "metadata": {
        "id": "p6rfk0Jd1RYS",
        "colab_type": "text"
      },
      "source": [
        "## Compiling model"
      ]
    },
    {
      "cell_type": "code",
      "metadata": {
        "id": "yMNLjtLY1F_L",
        "colab_type": "code",
        "colab": {}
      },
      "source": [
        "model.compile(optimizer = 'adam', loss = 'sparse_categorical_crossentropy', metrics = ['accuracy'])"
      ],
      "execution_count": 0,
      "outputs": []
    },
    {
      "cell_type": "markdown",
      "metadata": {
        "id": "FHcwcOcw1WM4",
        "colab_type": "text"
      },
      "source": [
        "##Training the model"
      ]
    },
    {
      "cell_type": "code",
      "metadata": {
        "id": "jIBtuG5J1UMJ",
        "colab_type": "code",
        "outputId": "4d453492-9ead-4a06-94a9-0ee473e2a7c9",
        "colab": {
          "base_uri": "https://localhost:8080/",
          "height": 204
        }
      },
      "source": [
        "model.fit(train_images, train_labels, epochs = 5)"
      ],
      "execution_count": 0,
      "outputs": [
        {
          "output_type": "stream",
          "text": [
            "Epoch 1/5\n",
            "60000/60000 [==============================] - 10s 161us/sample - loss: 0.4974 - acc: 0.8148\n",
            "Epoch 2/5\n",
            "60000/60000 [==============================] - 9s 148us/sample - loss: 0.3668 - acc: 0.8652\n",
            "Epoch 3/5\n",
            "60000/60000 [==============================] - 9s 148us/sample - loss: 0.3333 - acc: 0.8767\n",
            "Epoch 4/5\n",
            "60000/60000 [==============================] - 9s 147us/sample - loss: 0.3051 - acc: 0.8854\n",
            "Epoch 5/5\n",
            "60000/60000 [==============================] - 9s 148us/sample - loss: 0.2873 - acc: 0.8935\n"
          ],
          "name": "stdout"
        },
        {
          "output_type": "execute_result",
          "data": {
            "text/plain": [
              "<tensorflow.python.keras.callbacks.History at 0x7f600a32f7b8>"
            ]
          },
          "metadata": {
            "tags": []
          },
          "execution_count": 13
        }
      ]
    },
    {
      "cell_type": "markdown",
      "metadata": {
        "id": "K2XiJpNN1wPn",
        "colab_type": "text"
      },
      "source": [
        "##Testing the model"
      ]
    },
    {
      "cell_type": "code",
      "metadata": {
        "id": "62vE6sAO1ZKd",
        "colab_type": "code",
        "outputId": "77a7024a-266a-4ae7-a812-dd5ad2ba2d46",
        "colab": {
          "base_uri": "https://localhost:8080/",
          "height": 68
        }
      },
      "source": [
        "loss_val, accuracy_val = model.evaluate(train_images, train_labels)\n",
        "print('Loss is ',loss_val)\n",
        "print('Accuracy is ',accuracy_val)\n"
      ],
      "execution_count": 0,
      "outputs": [
        {
          "output_type": "stream",
          "text": [
            "60000/60000 [==============================] - 4s 73us/sample - loss: 0.2655 - acc: 0.8977\n",
            "Loss is  0.26548350912481544\n",
            "Accuracy is  0.89773333\n"
          ],
          "name": "stdout"
        }
      ]
    },
    {
      "cell_type": "markdown",
      "metadata": {
        "id": "WsXruwfK2KC4",
        "colab_type": "text"
      },
      "source": [
        "##Predicting"
      ]
    },
    {
      "cell_type": "code",
      "metadata": {
        "id": "r-0mcy0m13bz",
        "colab_type": "code",
        "outputId": "c9c2673a-aa25-4a85-9ec5-2dc2f14d80ce",
        "colab": {
          "base_uri": "https://localhost:8080/",
          "height": 238
        }
      },
      "source": [
        "predictions = model.predict([test_images])\n",
        "predictions"
      ],
      "execution_count": 0,
      "outputs": [
        {
          "output_type": "execute_result",
          "data": {
            "text/plain": [
              "array([[3.6173926e-08, 5.0580975e-09, 8.6335189e-10, ..., 3.9827940e-04,\n",
              "        9.2952659e-09, 9.9949133e-01],\n",
              "       [4.6599614e-03, 1.7915841e-05, 9.3392438e-01, ..., 2.1258437e-08,\n",
              "        6.4316053e-05, 1.7802883e-09],\n",
              "       [2.2076636e-06, 9.9999428e-01, 6.7536878e-09, ..., 1.5403865e-19,\n",
              "        4.2140664e-09, 1.5511620e-16],\n",
              "       ...,\n",
              "       [7.4495059e-05, 2.3247749e-08, 3.1764635e-06, ..., 1.0200910e-06,\n",
              "        9.9985051e-01, 1.7931382e-06],\n",
              "       [5.7520028e-06, 9.9996603e-01, 1.0032942e-07, ..., 1.2823463e-16,\n",
              "        9.3578151e-08, 4.0635718e-14],\n",
              "       [4.8392440e-08, 1.2507155e-08, 2.7435577e-08, ..., 2.5493696e-03,\n",
              "        2.9975281e-06, 6.9084526e-05]], dtype=float32)"
            ]
          },
          "metadata": {
            "tags": []
          },
          "execution_count": 20
        }
      ]
    },
    {
      "cell_type": "code",
      "metadata": {
        "id": "wFg-Jep-2UiC",
        "colab_type": "code",
        "outputId": "114e6182-11a9-4c54-957b-3a5f7ba970a5",
        "colab": {
          "base_uri": "https://localhost:8080/",
          "height": 68
        }
      },
      "source": [
        "print(predictions.shape)\n",
        "print(predictions[0])"
      ],
      "execution_count": 0,
      "outputs": [
        {
          "output_type": "stream",
          "text": [
            "(10000, 10)\n",
            "[3.6173926e-08 5.0580975e-09 8.6335189e-10 1.5881774e-09 2.9965652e-10\n",
            " 1.1026840e-04 4.1689550e-09 3.9827940e-04 9.2952659e-09 9.9949133e-01]\n"
          ],
          "name": "stdout"
        }
      ]
    },
    {
      "cell_type": "code",
      "metadata": {
        "id": "q9V0wW1Q2d90",
        "colab_type": "code",
        "outputId": "69f47773-e767-4bbe-aa80-d8334b856b93",
        "colab": {
          "base_uri": "https://localhost:8080/",
          "height": 34
        }
      },
      "source": [
        "prediction = np.argmax(predictions[0])\n",
        "prediction"
      ],
      "execution_count": 0,
      "outputs": [
        {
          "output_type": "execute_result",
          "data": {
            "text/plain": [
              "9"
            ]
          },
          "metadata": {
            "tags": []
          },
          "execution_count": 22
        }
      ]
    },
    {
      "cell_type": "code",
      "metadata": {
        "id": "H7Gam2vN2lvy",
        "colab_type": "code",
        "outputId": "439a6876-2866-4b3e-a96e-4b729175746f",
        "colab": {
          "base_uri": "https://localhost:8080/",
          "height": 34
        }
      },
      "source": [
        "print(class_names[prediction])"
      ],
      "execution_count": 0,
      "outputs": [
        {
          "output_type": "stream",
          "text": [
            "Ankle boot\n"
          ],
          "name": "stdout"
        }
      ]
    },
    {
      "cell_type": "code",
      "metadata": {
        "id": "_KrchyAL2-d1",
        "colab_type": "code",
        "outputId": "f54b7cd9-d5f6-4844-d212-b73804324647",
        "colab": {
          "base_uri": "https://localhost:8080/",
          "height": 1000
        }
      },
      "source": [
        "for i in range(700,720):\n",
        "  prediction = np.argmax(predictions[i])\n",
        "#   print(prediction)\n",
        "  plt.figure()\n",
        "  plt.title(str(class_names[prediction])+\" = \"+str(class_names[test_labels[i]]))\n",
        "  plt.imshow(test_images[i])\n",
        "\n",
        "plt.show()"
      ],
      "execution_count": 0,
      "outputs": [
        {
          "output_type": "display_data",
          "data": {
            "image/png": "[encoded data removed]",
            "text/plain": [
              "<Figure size 432x288 with 1 Axes>"
            ]
          },
          "metadata": {
            "tags": []
          }
        },
        {
          "output_type": "display_data",
          "data": {
            "image/png": "[encoded data removed]",
            "text/plain": [
              "<Figure size 432x288 with 1 Axes>"
            ]
          },
          "metadata": {
            "tags": []
          }
        },
        {
          "output_type": "display_data",
          "data": {
            "image/png": "[encoded data removed]",
            "text/plain": [
              "<Figure size 432x288 with 1 Axes>"
            ]
          },
          "metadata": {
            "tags": []
          }
        },
        {
          "output_type": "display_data",
          "data": {
            "image/png": "[encoded data removed]",
            "text/plain": [
              "<Figure size 432x288 with 1 Axes>"
            ]
          },
          "metadata": {
            "tags": []
          }
        },
        {
          "output_type": "display_data",
          "data": {
            "image/png": "[encoded data removed]",
            "text/plain": [
              "<Figure size 432x288 with 1 Axes>"
            ]
          },
          "metadata": {
            "tags": []
          }
        },
        {
          "output_type": "display_data",
          "data": {
            "image/png": "[encoded data removed]",
            "text/plain": [
              "<Figure size 432x288 with 1 Axes>"
            ]
          },
          "metadata": {
            "tags": []
          }
        },
        {
          "output_type": "display_data",
          "data": {
            "image/png": "[encoded data removed]",
            "text/plain": [
              "<Figure size 432x288 with 1 Axes>"
            ]
          },
          "metadata": {
            "tags": []
          }
        },
        {
          "output_type": "display_data",
          "data": {
            "image/png": "[encoded data removed]",
            "text/plain": [
              "<Figure size 432x288 with 1 Axes>"
            ]
          },
          "metadata": {
            "tags": []
          }
        },
        {
          "output_type": "display_data",
          "data": {
            "image/png": "[encoded data removed]",
            "text/plain": [
              "<Figure size 432x288 with 1 Axes>"
            ]
          },
          "metadata": {
            "tags": []
          }
        },
        {
          "output_type": "display_data",
          "data": {
            "image/png": "[encoded data removed]",
            "text/plain": [
              "<Figure size 432x288 with 1 Axes>"
            ]
          },
          "metadata": {
            "tags": []
          }
        },
        {
          "output_type": "display_data",
          "data": {
            "image/png": "[encoded data removed]",
            "text/plain": [
              "<Figure size 432x288 with 1 Axes>"
            ]
          },
          "metadata": {
            "tags": []
          }
        },
        {
          "output_type": "display_data",
          "data": {
            "image/png": "[encoded data removed]",
            "text/plain": [
              "<Figure size 432x288 with 1 Axes>"
            ]
          },
          "metadata": {
            "tags": []
          }
        },
        {
          "output_type": "display_data",
          "data": {
            "image/png": "[encoded data removed]",
            "text/plain": [
              "<Figure size 432x288 with 1 Axes>"
            ]
          },
          "metadata": {
            "tags": []
          }
        },
        {
          "output_type": "display_data",
          "data": {
            "image/png": "[encoded data removed]",
            "text/plain": [
              "<Figure size 432x288 with 1 Axes>"
            ]
          },
          "metadata": {
            "tags": []
          }
        },
        {
          "output_type": "display_data",
          "data": {
            "image/png": "[encoded data removed]",
            "text/plain": [
              "<Figure size 432x288 with 1 Axes>"
            ]
          },
          "metadata": {
            "tags": []
          }
        },
        {
          "output_type": "display_data",
          "data": {
            "image/png": "[encoded data removed]",
            "text/plain": [
              "<Figure size 432x288 with 1 Axes>"
            ]
          },
          "metadata": {
            "tags": []
          }
        },
        {
          "output_type": "display_data",
          "data": {
            "image/png": "[encoded data removed]",
            "text/plain": [
              "<Figure size 432x288 with 1 Axes>"
            ]
          },
          "metadata": {
            "tags": []
          }
        },
        {
          "output_type": "display_data",
          "data": {
            "image/png": "[encoded data removed]",
            "text/plain": [
              "<Figure size 432x288 with 1 Axes>"
            ]
          },
          "metadata": {
            "tags": []
          }
        },
        {
          "output_type": "display_data",
          "data": {
            "image/png": "[encoded data removed]",
            "text/plain": [
              "<Figure size 432x288 with 1 Axes>"
            ]
          },
          "metadata": {
            "tags": []
          }
        },
        {
          "output_type": "display_data",
          "data": {
            "image/png": "[encoded data removed]",
            "text/plain": [
              "<Figure size 432x288 with 1 Axes>"
            ]
          },
          "metadata": {
            "tags": []
          }
        }
      ]
    },
    {
      "cell_type": "code",
      "metadata": {
        "id": "gVA55GlI3MPx",
        "colab_type": "code",
        "colab": {}
      },
      "source": [
        ""
      ],
      "execution_count": 0,
      "outputs": []
    }
  ]
}